{
 "cells": [
  {
   "cell_type": "code",
   "execution_count": 1,
   "metadata": {},
   "outputs": [],
   "source": [
    "from gripper_v2 import Gripper\n",
    "import time"
   ]
  },
  {
   "cell_type": "code",
   "execution_count": 2,
   "metadata": {},
   "outputs": [],
   "source": [
    "port = '/dev/cu.usbserial-1420'"
   ]
  },
  {
   "cell_type": "code",
   "execution_count": 3,
   "metadata": {},
   "outputs": [
    {
     "name": "stdout",
     "output_type": "stream",
     "text": [
      "Opening connection on port: /dev/cu.usbserial-1420\n"
     ]
    }
   ],
   "source": [
    "gripper = Gripper(port)"
   ]
  },
  {
   "cell_type": "code",
   "execution_count": 4,
   "metadata": {},
   "outputs": [
    {
     "data": {
      "text/plain": [
       "'0.12,4.15,34.01,2.02,1,101\\r'"
      ]
     },
     "execution_count": 4,
     "metadata": {},
     "output_type": "execute_result"
    }
   ],
   "source": [
    "gripper.receive()"
   ]
  },
  {
   "cell_type": "code",
   "execution_count": 8,
   "metadata": {},
   "outputs": [
    {
     "name": "stdout",
     "output_type": "stream",
     "text": [
      "0.00,0.00,0.00,2.32,1,10055\n",
      "0.01,0.00,0.00,2.32,1,11104\n",
      "0.06,1.56,26.12,2.32,1,12148\n",
      "0.06,0.00,0.00,2.32,1,12179\n",
      "0.00,0.46,inf,2.32,1,12237\n",
      "0.05,0.72,13.83,2.31,1,12269\n",
      "0.00,0.00,nan,2.31,1,12298\n",
      "0.00,0.00,nan,2.32,1,12327\n",
      "0.03,0.76,21.84,2.31,1,12358\n",
      "0.09,0.00,0.00,2.31,1,12389\n",
      "0.07,2.59,37.13,2.31,1,12420\n",
      "0.00,0.00,nan,2.31,1,12449\n",
      "0.00,0.00,nan,2.31,1,12478\n",
      "0.01,0.72,48.41,2.31,1,12509\n",
      "0.14,0.00,0.00,2.31,1,12570\n",
      "0.06,0.00,0.00,2.32,1,12601\n",
      "0.05,0.84,17.70,2.31,1,12632\n",
      "0.00,0.00,nan,2.31,1,12661\n",
      "0.00,0.00,nan,2.32,1,12690\n",
      "0.01,0.61,48.92,2.31,1,12722\n"
     ]
    }
   ],
   "source": [
    "for i in range(20):\n",
    "    print(gripper.receive())"
   ]
  },
  {
   "cell_type": "code",
   "execution_count": 14,
   "metadata": {},
   "outputs": [
    {
     "data": {
      "text/plain": [
       "1"
      ]
     },
     "execution_count": 14,
     "metadata": {},
     "output_type": "execute_result"
    }
   ],
   "source": [
    "gripper.getGripperHealth()"
   ]
  },
  {
   "cell_type": "code",
   "execution_count": 22,
   "metadata": {},
   "outputs": [
    {
     "data": {
      "text/plain": [
       "10.05"
      ]
     },
     "execution_count": 22,
     "metadata": {},
     "output_type": "execute_result"
    }
   ],
   "source": [
    "gripper.getSMAVoltage()"
   ]
  },
  {
   "cell_type": "code",
   "execution_count": 9,
   "metadata": {},
   "outputs": [
    {
     "data": {
      "text/plain": [
       "2.0"
      ]
     },
     "execution_count": 9,
     "metadata": {},
     "output_type": "execute_result"
    }
   ],
   "source": [
    "gripper.getGripperWidth()"
   ]
  },
  {
   "cell_type": "code",
   "execution_count": 17,
   "metadata": {},
   "outputs": [
    {
     "data": {
      "text/plain": [
       "0.06"
      ]
     },
     "execution_count": 17,
     "metadata": {},
     "output_type": "execute_result"
    }
   ],
   "source": [
    "gripper.getSMACurrent()"
   ]
  },
  {
   "cell_type": "code",
   "execution_count": 10,
   "metadata": {},
   "outputs": [
    {
     "name": "stdout",
     "output_type": "stream",
     "text": [
      "0.24,10.66,43.68,2.18,1,25066\n",
      "0.25,9.79,38.90,2.11,1,26117\n",
      "0.23,9.37,40.88,2.03,1,27167\n",
      "0.22,8.65,39.44,2.02,1,28249\n",
      "0.25,9.48,37.69,2.02,1,29299\n",
      "0.24,9.60,39.72,1.96,1,30350\n",
      "0.26,9.52,36.75,1.99,1,31368\n",
      "0.30,10.13,34.17,1.99,1,31399\n",
      "0.25,9.83,39.05,1.99,1,31431\n",
      "0.21,10.13,47.84,1.99,1,31463\n",
      "0.30,10.13,34.17,1.99,1,31496\n",
      "0.07,1.45,19.36,1.99,1,31526\n",
      "0.01,0.38,50.96,1.99,1,31558\n",
      "0.00,0.11,inf,1.99,1,31587\n",
      "0.04,0.76,16.99,1.99,1,31619\n",
      "0.05,0.00,0.00,1.99,1,31648\n",
      "0.07,0.76,10.19,1.99,1,31679\n",
      "0.06,0.84,13.45,1.99,1,31740\n",
      "0.00,0.00,nan,2.00,1,31770\n",
      "0.00,0.00,nan,2.00,1,31799\n"
     ]
    }
   ],
   "source": [
    "gripper.setSMACurrent(0.)\n",
    "for i in range(20):\n",
    "    print(gripper.receive())"
   ]
  },
  {
   "cell_type": "code",
   "execution_count": null,
   "metadata": {},
   "outputs": [],
   "source": [
    "# gripper.arduino.flushInput()\n",
    "gripper.arduino.write('H\\r'.encode())\n",
    "(gripper.arduino.readline().decode())"
   ]
  },
  {
   "cell_type": "code",
   "execution_count": 23,
   "metadata": {},
   "outputs": [],
   "source": [
    "isOpen = False\n",
    "for i in range(40):\n",
    "    if isOpen:\n",
    "        gripper.setSMACurrent(0.0)\n",
    "        time.sleep(0.7)\n",
    "    else:\n",
    "        gripper.setSMACurrent(0.4)\n",
    "        time.sleep(0.7)\n",
    "    isOpen = not isOpen"
   ]
  },
  {
   "cell_type": "code",
   "execution_count": null,
   "metadata": {},
   "outputs": [],
   "source": [
    "time.sleep(2)"
   ]
  },
  {
   "cell_type": "code",
   "execution_count": 16,
   "metadata": {},
   "outputs": [
    {
     "name": "stdout",
     "output_type": "stream",
     "text": [
      "0.40\n",
      "\n"
     ]
    }
   ],
   "source": [
    "gripper.arduino.flushInput()\n",
    "gripper.arduino.write('I\\r'.encode())\n",
    "while not gripper.arduino.readline():\n",
    "    pass\n",
    "print(gripper.arduino.readline().decode())"
   ]
  },
  {
   "cell_type": "code",
   "execution_count": null,
   "metadata": {},
   "outputs": [],
   "source": []
  },
  {
   "cell_type": "code",
   "execution_count": 37,
   "metadata": {},
   "outputs": [
    {
     "name": "stdout",
     "output_type": "stream",
     "text": [
      "0.30,10.02,33.79,1.96,1,30010\n",
      "\n",
      "0.30,10.02,33.79,1.97,1,31059\n",
      "\n",
      "0.30,10.05,33.92,1.99,1,32142\n",
      "\n",
      "0.30,10.05,33.92,1.99,1,33192\n",
      "\n",
      "0.26,10.02,37.93,1.98,1,34243\n",
      "\n",
      "0.30,10.05,33.92,1.96,1,35320\n",
      "\n",
      "0.26,10.05,38.08,1.99,1,36369\n",
      "\n",
      "0.24,9.25,38.70,1.97,1,37419\n",
      "\n",
      "0.30,10.02,33.79,1.98,1,38497\n",
      "\n",
      "0.24,8.87,37.11,1.97,1,39542\n",
      "\n",
      "0.30,10.02,33.79,1.97,1,40623\n",
      "\n",
      "0.30,9.83,33.15,1.97,1,41671\n",
      "\n",
      "0.30,10.02,33.79,1.98,1,42753\n",
      "\n",
      "0.30,10.02,33.79,1.98,1,43801\n",
      "\n",
      "0.25,10.02,39.81,1.98,1,44851\n",
      "\n",
      "0.30,10.02,33.79,1.95,1,45929\n",
      "\n",
      "0.30,10.02,33.79,1.98,1,46977\n",
      "\n",
      "0.25,9.56,38.76,1.98,1,48026\n",
      "\n",
      "0.30,10.02,33.79,1.96,1,49106\n",
      "\n",
      "0.32,9.98,31.29,1.97,1,50154\n",
      "\n",
      "0.30,10.05,33.92,1.93,1,51236\n",
      "\n",
      "0.30,10.02,33.79,1.96,1,52285\n",
      "\n",
      "0.25,9.52,38.22,1.97,1,53332\n",
      "\n",
      "0.30,10.02,33.79,1.94,1,54415\n",
      "\n",
      "0.02,0.00,0.00,1.94,1,55454\n",
      "\n",
      "0.04,0.95,23.89,2.07,1,56535\n",
      "\n",
      "0.00,0.00,nan,2.22,1,57586\n",
      "\n",
      "0.00,0.04,inf,2.32,1,58642\n",
      "\n",
      "0.00,0.00,nan,2.30,1,59698\n",
      "\n",
      "0.04,0.84,18.69,2.31,1,60784\n",
      "\n",
      "0.02,7.27,365.00,2.31,1,61842\n",
      "\n",
      "0.01,0.76,76.44,2.32,1,62895\n",
      "\n",
      "0.13,0.23,1.76,2.32,1,63948\n",
      "\n",
      "0.08,1.10,13.85,2.28,1,65001\n",
      "\n",
      "0.00,0.69,275.18,2.28,1,66084\n",
      "\n",
      "111\n",
      "\n",
      "111\n",
      "\n",
      "111\n",
      "\n",
      "111\n",
      "\n",
      "111\n",
      "\n"
     ]
    }
   ],
   "source": [
    "for i in range(40):\n",
    "    gripper.arduino.flushInput()\n",
    "    gripper.arduino.write('W\\r'.encode())\n",
    "    while not gripper.arduino.readline():\n",
    "        pass\n",
    "    print(gripper.arduino.readline().decode())\n",
    "    time.sleep(0.01)"
   ]
  },
  {
   "cell_type": "code",
   "execution_count": null,
   "metadata": {},
   "outputs": [],
   "source": [
    "while True:\n",
    "    gripper.setSMACurrent(0.)\n",
    "    time.sleep(2)\n",
    "    gripper.setSMACurrent(0.4)\n",
    "    time.sleep(2)"
   ]
  },
  {
   "cell_type": "code",
   "execution_count": null,
   "metadata": {},
   "outputs": [],
   "source": [
    "gripper.setFanSpeed(0)"
   ]
  },
  {
   "cell_type": "code",
   "execution_count": 31,
   "metadata": {},
   "outputs": [
    {
     "data": {
      "text/plain": [
       "-1"
      ]
     },
     "execution_count": 31,
     "metadata": {},
     "output_type": "execute_result"
    }
   ],
   "source": [
    "gripper.getGripperWidth()"
   ]
  },
  {
   "cell_type": "code",
   "execution_count": 11,
   "metadata": {},
   "outputs": [
    {
     "name": "stdout",
     "output_type": "stream",
     "text": [
      "b''\n"
     ]
    }
   ],
   "source": [
    "gripper.arduino.flushInput()\n",
    "gripper.arduino.write('I\\r'.encode())\n",
    "while not gripper.arduino.readline():\n",
    "    pass\n",
    "print(gripper.arduino.readline())"
   ]
  },
  {
   "cell_type": "code",
   "execution_count": 24,
   "metadata": {},
   "outputs": [
    {
     "data": {
      "text/plain": [
       "['0.27', '10.02', '36.89', '1.99', '1', '653']"
      ]
     },
     "execution_count": 24,
     "metadata": {},
     "output_type": "execute_result"
    }
   ],
   "source": [
    "gripper.arduino.readline().decode()[:-2].split(',')"
   ]
  },
  {
   "cell_type": "code",
   "execution_count": null,
   "metadata": {},
   "outputs": [],
   "source": []
  }
 ],
 "metadata": {
  "kernelspec": {
   "display_name": "Python 3",
   "language": "python",
   "name": "python3"
  },
  "language_info": {
   "codemirror_mode": {
    "name": "ipython",
    "version": 3
   },
   "file_extension": ".py",
   "mimetype": "text/x-python",
   "name": "python",
   "nbconvert_exporter": "python",
   "pygments_lexer": "ipython3",
   "version": "3.7.0"
  }
 },
 "nbformat": 4,
 "nbformat_minor": 4
}
